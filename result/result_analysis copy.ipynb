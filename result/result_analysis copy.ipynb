{
 "cells": [
  {
   "cell_type": "code",
   "execution_count": 64,
   "metadata": {},
   "outputs": [],
   "source": [
    "import pandas as pd\n",
    "import numpy as np"
   ]
  },
  {
   "cell_type": "markdown",
   "metadata": {},
   "source": [
    "### How Many Cases we Won with Old and New Methods?"
   ]
  },
  {
   "cell_type": "code",
   "execution_count": 65,
   "metadata": {},
   "outputs": [
    {
     "data": {
      "text/html": [
       "<div>\n",
       "<style scoped>\n",
       "    .dataframe tbody tr th:only-of-type {\n",
       "        vertical-align: middle;\n",
       "    }\n",
       "\n",
       "    .dataframe tbody tr th {\n",
       "        vertical-align: top;\n",
       "    }\n",
       "\n",
       "    .dataframe thead th {\n",
       "        text-align: right;\n",
       "    }\n",
       "</style>\n",
       "<table border=\"1\" class=\"dataframe\">\n",
       "  <thead>\n",
       "    <tr style=\"text-align: right;\">\n",
       "      <th></th>\n",
       "      <th>classifier_name</th>\n",
       "      <th>dataset_name</th>\n",
       "      <th>f1</th>\n",
       "      <th>accuracy</th>\n",
       "      <th>full_dataset_name</th>\n",
       "    </tr>\n",
       "  </thead>\n",
       "  <tbody>\n",
       "    <tr>\n",
       "      <th>0</th>\n",
       "      <td>chrono_gam</td>\n",
       "      <td>Adiac-1.0</td>\n",
       "      <td>0.863638</td>\n",
       "      <td>0.982097</td>\n",
       "      <td>Adiac</td>\n",
       "    </tr>\n",
       "    <tr>\n",
       "      <th>1</th>\n",
       "      <td>chrono_gam</td>\n",
       "      <td>Adiac-2.0</td>\n",
       "      <td>0.766219</td>\n",
       "      <td>0.966752</td>\n",
       "      <td>Adiac</td>\n",
       "    </tr>\n",
       "    <tr>\n",
       "      <th>2</th>\n",
       "      <td>chrono_gam</td>\n",
       "      <td>Adiac-3.0</td>\n",
       "      <td>0.764811</td>\n",
       "      <td>0.961637</td>\n",
       "      <td>Adiac</td>\n",
       "    </tr>\n",
       "    <tr>\n",
       "      <th>3</th>\n",
       "      <td>chrono_gam</td>\n",
       "      <td>Adiac-4.0</td>\n",
       "      <td>0.873278</td>\n",
       "      <td>0.984655</td>\n",
       "      <td>Adiac</td>\n",
       "    </tr>\n",
       "    <tr>\n",
       "      <th>4</th>\n",
       "      <td>chrono_gam</td>\n",
       "      <td>Adiac-5.0</td>\n",
       "      <td>0.734804</td>\n",
       "      <td>0.959079</td>\n",
       "      <td>Adiac</td>\n",
       "    </tr>\n",
       "  </tbody>\n",
       "</table>\n",
       "</div>"
      ],
      "text/plain": [
       "  classifier_name dataset_name        f1  accuracy full_dataset_name\n",
       "0      chrono_gam    Adiac-1.0  0.863638  0.982097             Adiac\n",
       "1      chrono_gam    Adiac-2.0  0.766219  0.966752             Adiac\n",
       "2      chrono_gam    Adiac-3.0  0.764811  0.961637             Adiac\n",
       "3      chrono_gam    Adiac-4.0  0.873278  0.984655             Adiac\n",
       "4      chrono_gam    Adiac-5.0  0.734804  0.959079             Adiac"
      ]
     },
     "execution_count": 65,
     "metadata": {},
     "output_type": "execute_result"
    }
   ],
   "source": [
    "results = pd.read_csv('./all_results.csv')\n",
    "results['full_dataset_name'] = results.dataset_name.apply(lambda x: str(x).split('-')[0])\n",
    "\n",
    "results.head()"
   ]
  },
  {
   "cell_type": "markdown",
   "metadata": {},
   "source": [
    "#### No-Grouped Datasets (One-Class Transform Applied)"
   ]
  },
  {
   "cell_type": "code",
   "execution_count": 66,
   "metadata": {},
   "outputs": [
    {
     "name": "stderr",
     "output_type": "stream",
     "text": [
      "C:\\Users\\medei\\AppData\\Local\\Temp\\ipykernel_20888\\2038990799.py:8: FutureWarning: The default value of numeric_only in DataFrameGroupBy.mean is deprecated. In a future version, numeric_only will default to False. Either specify numeric_only or select only columns which should be valid for the function.\n",
      "  grouped = results.groupby(['classifier_name', 'full_dataset_name']).mean()\n"
     ]
    }
   ],
   "source": [
    "model_names = results.classifier_name.value_counts().index.values\n",
    "datasets_names = results.full_dataset_name.value_counts().index.values\n",
    "\n",
    "best_model_count = {\n",
    "    model: [] for model in model_names\n",
    "}\n",
    "\n",
    "grouped = results.groupby(['classifier_name', 'full_dataset_name']).mean()\n",
    "\n",
    "for dataset in datasets_names:\n",
    "    best_model = None\n",
    "    best_result = 0\n",
    "    for model in model_names:\n",
    "        row = grouped.query('classifier_name == @model and full_dataset_name == @dataset')\n",
    "        row_f1 = row.f1.values[0]\n",
    "        if row_f1 > best_result:\n",
    "            best_model = model\n",
    "\n",
    "    best_model_count[best_model].append(dataset)\n",
    "\n",
    "# results.groupby(['classifier_name', 'full_dataset_name']).mean()"
   ]
  },
  {
   "cell_type": "code",
   "execution_count": 67,
   "metadata": {},
   "outputs": [
    {
     "name": "stdout",
     "output_type": "stream",
     "text": [
      "['chrono_gam_old' 'dagmm' 'deepsvdd' 'ocsvm' 'isolation-forest']\n"
     ]
    }
   ],
   "source": [
    "filtered = results.query('classifier_name != \"chrono_gam\"')\n",
    "\n",
    "model_names = filtered.classifier_name.value_counts().index.values\n",
    "datasets_names = filtered.dataset_name.value_counts().index.values\n",
    "\n",
    "best_model_count = {\n",
    "    model: [] for model in model_names\n",
    "}\n",
    "\n",
    "print(model_names)\n",
    "\n",
    "\n",
    "for dataset in datasets_names:\n",
    "    best_model = None\n",
    "    best_result = 0\n",
    "\n",
    "    for model in model_names:\n",
    "        row = filtered.query('classifier_name == @model and dataset_name == @dataset')\n",
    "        row_f1 = row.f1.values[0]\n",
    "        \n",
    "        if row_f1 > best_result:\n",
    "            best_model = model\n",
    "            best_result = row_f1\n",
    "\n",
    "    best_model_count[best_model].append(dataset)\n",
    "\n",
    "# results.groupby(['classifier_name', 'full_dataset_name']).mean()"
   ]
  },
  {
   "cell_type": "code",
   "execution_count": 68,
   "metadata": {},
   "outputs": [
    {
     "name": "stdout",
     "output_type": "stream",
     "text": [
      "chrono_gam_old 346\n",
      "dagmm 52\n",
      "deepsvdd 7\n",
      "ocsvm 52\n",
      "isolation-forest 195\n"
     ]
    }
   ],
   "source": [
    "for model in best_model_count.keys():\n",
    "    print(model, len(best_model_count[model]))"
   ]
  },
  {
   "cell_type": "code",
   "execution_count": 69,
   "metadata": {},
   "outputs": [
    {
     "name": "stdout",
     "output_type": "stream",
     "text": [
      "['chrono_gam' 'dagmm' 'deepsvdd' 'ocsvm' 'isolation-forest']\n"
     ]
    }
   ],
   "source": [
    "filtered = results.query('classifier_name != \"chrono_gam_old\"')\n",
    "\n",
    "model_names = filtered.classifier_name.value_counts().index.values\n",
    "datasets_names = filtered.dataset_name.value_counts().index.values\n",
    "\n",
    "best_model_count = {\n",
    "    model: [] for model in model_names\n",
    "}\n",
    "\n",
    "print(model_names)\n",
    "\n",
    "\n",
    "for dataset in datasets_names:\n",
    "    best_model = None\n",
    "    best_result = 0\n",
    "\n",
    "    for model in model_names:\n",
    "        row = filtered.query('classifier_name == @model and dataset_name == @dataset')\n",
    "        row_f1 = row.f1.values[0]\n",
    "        \n",
    "        if row_f1 > best_result:\n",
    "            best_model = model\n",
    "            best_result = row_f1\n",
    "\n",
    "    best_model_count[best_model].append(dataset)\n",
    "\n",
    "# results.groupby(['classifier_name', 'full_dataset_name']).mean()"
   ]
  },
  {
   "cell_type": "code",
   "execution_count": 70,
   "metadata": {},
   "outputs": [
    {
     "name": "stdout",
     "output_type": "stream",
     "text": [
      "chrono_gam 315\n",
      "dagmm 120\n",
      "deepsvdd 4\n",
      "ocsvm 43\n",
      "isolation-forest 170\n"
     ]
    }
   ],
   "source": [
    "for model in best_model_count.keys():\n",
    "    print(model, len(best_model_count[model]))"
   ]
  }
 ],
 "metadata": {
  "kernelspec": {
   "display_name": "base",
   "language": "python",
   "name": "python3"
  },
  "language_info": {
   "codemirror_mode": {
    "name": "ipython",
    "version": 3
   },
   "file_extension": ".py",
   "mimetype": "text/x-python",
   "name": "python",
   "nbconvert_exporter": "python",
   "pygments_lexer": "ipython3",
   "version": "3.9.13"
  },
  "orig_nbformat": 4
 },
 "nbformat": 4,
 "nbformat_minor": 2
}
